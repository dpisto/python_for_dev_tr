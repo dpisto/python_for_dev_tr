{
 "cells": [
  {
   "cell_type": "code",
   "execution_count": 5,
   "id": "e8ef2a5b-b9f6-4232-a393-bb36f70f8eae",
   "metadata": {
    "tags": []
   },
   "outputs": [],
   "source": [
    "class Car:\n",
    "    \"\"\"\n",
    "    Car models w/ tires and an engine\n",
    "    \"\"\"\n",
    "    \n",
    "    def __init__(self, engine, tires):\n",
    "        \"\"\"\n",
    "        Create variables\n",
    "        \"\"\"\n",
    "        self.engine = engine\n",
    "        self.tires = tires\n",
    "        \n",
    "    def description(self):\n",
    "        print(f\"A car with an {self.engine} engine, and {self.tires} tires.\")\n",
    "        \n",
    "    def wheel_circumference(self):\n",
    "        if len(self.tires) > 0:\n",
    "            return self.tires[0].circumference()\n",
    "        else:\n",
    "            return 0"
   ]
  },
  {
   "cell_type": "code",
   "execution_count": 22,
   "id": "ab6c0920-d04e-4d79-a253-3496ad1989aa",
   "metadata": {
    "tags": []
   },
   "outputs": [],
   "source": [
    "import math\n",
    "class Tire:\n",
    "    \"\"\"\n",
    "    Tire represents a tire that would be used with an automobile\n",
    "    \"\"\"\n",
    "    def __init__(self, tire_type, width, ratio, diameter, brand='', construction='R'):\n",
    "        self.tire_type = tire_type\n",
    "        self.width = width\n",
    "        self.ratio = ratio\n",
    "        self.diameter = diameter\n",
    "        self.construction = construction\n",
    "        \n",
    "    def circumference(self):\n",
    "        \"\"\"\n",
    "        The  circumference of the tire in inches.\n",
    "        >>> tire = Tire('P', 235, 55, 18)\n",
    "        >>> tire.circumference()\n",
    "        88.5\n",
    "        \"\"\"\n",
    "        side_wall_inches = (self.width * (self.ratio / 100)) / 25.4\n",
    "        total_diameter = self.side_wall_inches() * 2 + self.diameter\n",
    "        return round(total_diameter * math.pi, 1)\n",
    "\n",
    "    def __repr__(self):\n",
    "        \"\"\"\n",
    "        Represent the tire's information in the standard notation present on the side of the tire.\n",
    "        Example: 'P215/65R15'\n",
    "        \"\"\"\n",
    "        return (f\"{self.tire_type}{self.width}/{self.ratio}{self.construction}{self.diameter}\")\n",
    "    \n",
    "    def _side_wall_inches(self):\n",
    "        return (self.width * (self.ratio / 100)) / 25.4"
   ]
  },
  {
   "cell_type": "code",
   "execution_count": 3,
   "id": "e15f8fed-f9f3-4d12-a231-e31a8f177ceb",
   "metadata": {
    "tags": []
   },
   "outputs": [
    {
     "data": {
      "text/plain": [
       "88.5"
      ]
     },
     "execution_count": 3,
     "metadata": {},
     "output_type": "execute_result"
    }
   ],
   "source": [
    "#BMW = Car('6-cylinder', ['front-driver', 'front-passenger','rear-driver','rear-passenger'])\n",
    "tire = Tire('P', 235, 55, 18)\n",
    "tires = [tire, tire, tire, tire]\n",
    "BMW = Car(tires=tires,engine='6-cylinder')\n",
    "#BMW.description()\n",
    "BMW.wheel_circumference()"
   ]
  },
  {
   "cell_type": "code",
   "execution_count": 23,
   "id": "251e4d3c-3802-4fc7-a82e-561f04f23538",
   "metadata": {},
   "outputs": [],
   "source": [
    "class SnowTire(Tire):\n",
    "    def __init__(self, tire_type, width, ratio, diameter, chain_thickness, brand='', construction='R'):\n",
    "        super().__init__(tire_type, width, ratio, diameter, brand, construction)\n",
    "        self.chain_thickenss = chain_thickness\n",
    "        \n",
    "    def circumference(self):\n",
    "        \"\"\"\n",
    "        The circumference of a tire w/ snow chains in inches.\n",
    "        \n",
    "        >>> tire = SnowTire('P', 205, 65, 15, 2)\n",
    "        >>> tire.circumference()\n",
    "        92.7\n",
    "        \"\"\"\n",
    "        total_diameter = (sef._side_wall_inches() + self.chain_thickness) * 2 + self.diameter\n",
    "        return round(total_diameter * math.pi, 1) \n",
    "    \n",
    "    def __repr__(self):\n",
    "        return super().__repr__() + \" (Snow)\""
   ]
  },
  {
   "cell_type": "code",
   "execution_count": 24,
   "id": "1a9e6ae5-9177-46c3-8353-08dc459fe633",
   "metadata": {
    "tags": []
   },
   "outputs": [],
   "source": [
    "tire = SnowTire('P', 205, 65, 15, 2)"
   ]
  },
  {
   "cell_type": "code",
   "execution_count": 25,
   "id": "ecb63d1e-53d9-41da-9011-fc922a0c4387",
   "metadata": {
    "tags": []
   },
   "outputs": [
    {
     "data": {
      "text/plain": [
       "P205/65R15 (Snow)"
      ]
     },
     "execution_count": 25,
     "metadata": {},
     "output_type": "execute_result"
    }
   ],
   "source": [
    "tire"
   ]
  },
  {
   "cell_type": "code",
   "execution_count": null,
   "id": "96bb1769-52f7-40f2-99d5-40902f65e2b9",
   "metadata": {},
   "outputs": [],
   "source": []
  }
 ],
 "metadata": {
  "kernelspec": {
   "display_name": "Python 3 (ipykernel)",
   "language": "python",
   "name": "python3"
  },
  "language_info": {
   "codemirror_mode": {
    "name": "ipython",
    "version": 3
   },
   "file_extension": ".py",
   "mimetype": "text/x-python",
   "name": "python",
   "nbconvert_exporter": "python",
   "pygments_lexer": "ipython3",
   "version": "3.7.9"
  }
 },
 "nbformat": 4,
 "nbformat_minor": 5
}
