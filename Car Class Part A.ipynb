{
 "cells": [
  {
   "cell_type": "code",
   "execution_count": 1,
   "id": "2c3cd919-5add-4d58-8242-dd1aaf22557c",
   "metadata": {
    "tags": []
   },
   "outputs": [],
   "source": [
    "#class Car:\n",
    "    \"\"\"\n",
    "    Docstring describing the class\n",
    "    \"\"\"\n",
    "    \n",
    "#    def __init__(self):\n",
    "        \"\"\"\n",
    "        Docstring describing the method\n",
    "        \"\"\"\n",
    "#        pass"
   ]
  },
  {
   "cell_type": "code",
   "execution_count": 3,
   "id": "b4fb6873-b78f-4d70-8335-b52857bd0034",
   "metadata": {
    "tags": []
   },
   "outputs": [],
   "source": [
    "class Car:\n",
    "    \"\"\"\n",
    "    Car models w/ tires and an engine\n",
    "    \"\"\"\n",
    "    \n",
    "    def __init__(self, engine, tires):\n",
    "        \"\"\"\n",
    "        Create variables\n",
    "        \"\"\"\n",
    "        self.engine = engine\n",
    "        self.tires = tires"
   ]
  },
  {
   "cell_type": "code",
   "execution_count": 4,
   "id": "0e7d6479-ebc3-4975-b0b1-36c5411c7888",
   "metadata": {
    "tags": []
   },
   "outputs": [],
   "source": [
    "BMW = Car('6-cylinder', ['front-driver', 'front-passenger','rear-driver','rear-passenger'])"
   ]
  },
  {
   "cell_type": "code",
   "execution_count": 5,
   "id": "6f107c72-0b3a-4d96-8122-eab6ddcf49b5",
   "metadata": {
    "tags": []
   },
   "outputs": [
    {
     "data": {
      "text/plain": [
       "<__main__.Car at 0x7fa97801a910>"
      ]
     },
     "execution_count": 5,
     "metadata": {},
     "output_type": "execute_result"
    }
   ],
   "source": [
    "BMW"
   ]
  },
  {
   "cell_type": "code",
   "execution_count": 6,
   "id": "466bc0de-43d7-4db8-b874-98fc852ad0c3",
   "metadata": {
    "tags": []
   },
   "outputs": [
    {
     "data": {
      "text/plain": [
       "'6-cylinder'"
      ]
     },
     "execution_count": 6,
     "metadata": {},
     "output_type": "execute_result"
    }
   ],
   "source": [
    "BMW.engine"
   ]
  },
  {
   "cell_type": "code",
   "execution_count": 7,
   "id": "41d81306-2302-405d-b3b2-00fa892e5b66",
   "metadata": {
    "tags": []
   },
   "outputs": [
    {
     "data": {
      "text/plain": [
       "['front-driver', 'front-passenger', 'rear-driver', 'rear-passenger']"
      ]
     },
     "execution_count": 7,
     "metadata": {},
     "output_type": "execute_result"
    }
   ],
   "source": [
    "BMW.tires"
   ]
  },
  {
   "cell_type": "code",
   "execution_count": 11,
   "id": "5711bd48-6bfc-46b3-8b99-e54f0bb1dea6",
   "metadata": {
    "tags": []
   },
   "outputs": [],
   "source": [
    "BMW.license_plate = 'ETY9700'"
   ]
  },
  {
   "cell_type": "code",
   "execution_count": 12,
   "id": "1b58bc37-03b8-4711-833f-4760656d5207",
   "metadata": {
    "tags": []
   },
   "outputs": [
    {
     "data": {
      "text/plain": [
       "'ETY9700'"
      ]
     },
     "execution_count": 12,
     "metadata": {},
     "output_type": "execute_result"
    }
   ],
   "source": [
    "BMW.license_plate"
   ]
  },
  {
   "cell_type": "code",
   "execution_count": null,
   "id": "8db645b5-246d-4b1c-9018-2d445767c3dd",
   "metadata": {},
   "outputs": [],
   "source": []
  }
 ],
 "metadata": {
  "kernelspec": {
   "display_name": "Python 3 (ipykernel)",
   "language": "python",
   "name": "python3"
  },
  "language_info": {
   "codemirror_mode": {
    "name": "ipython",
    "version": 3
   },
   "file_extension": ".py",
   "mimetype": "text/x-python",
   "name": "python",
   "nbconvert_exporter": "python",
   "pygments_lexer": "ipython3",
   "version": "3.7.9"
  }
 },
 "nbformat": 4,
 "nbformat_minor": 5
}
