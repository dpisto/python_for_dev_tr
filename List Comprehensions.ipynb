{
 "cells": [
  {
   "cell_type": "markdown",
   "id": "55ca9f3f-f622-467d-a1fa-f77fea55ead9",
   "metadata": {},
   "source": [
    "# Python Comprehensions Course"
   ]
  },
  {
   "cell_type": "markdown",
   "id": "f7167794-8cbf-4a48-b9a1-8f87929bb728",
   "metadata": {},
   "source": [
    "## Lesson 1\n",
    "### How to replace loop with comprehension"
   ]
  },
  {
   "cell_type": "code",
   "execution_count": 1,
   "id": "2590217b-9117-44cc-be6b-9a5aa7db5b5e",
   "metadata": {
    "tags": []
   },
   "outputs": [],
   "source": [
    "#create list with a loop\n",
    "\n",
    "float_list = []\n",
    "\n",
    "for i in range(100):\n",
    "    float_list.append(i*100.0)\n",
    "    \n",
    "print(float_list)"
   ]
  },
  {
   "cell_type": "code",
   "execution_count": 4,
   "id": "ac9e4252-8d0e-4e75-8377-bc0522cd467d",
   "metadata": {
    "tags": []
   },
   "outputs": [],
   "source": [
    "#replace list with comprehension\n",
    "\n",
    "float_list = [i*100.0 for i in range(100)]\n",
    "\n",
    "print(float_list)"
   ]
  },
  {
   "cell_type": "markdown",
   "id": "ac1f8f2b-7afb-4533-b7a7-c98b8c269499",
   "metadata": {},
   "source": [
    "### Exercise: Refractor function"
   ]
  },
  {
   "cell_type": "code",
   "execution_count": 62,
   "id": "a53b7620-6f06-4ad4-9c42-4a60a215ecff",
   "metadata": {
    "tags": []
   },
   "outputs": [],
   "source": [
    "# original function\n",
    "\n",
    "def old_process_incoming_data(data_list):\n",
    "    temp = []\n",
    "    for datum in data_list:\n",
    "        temp.append(datum//2*67 - 5)\n",
    "    return temp"
   ]
  },
  {
   "cell_type": "code",
   "execution_count": 67,
   "id": "3286342f-7781-4bf0-b759-c449e1d622a8",
   "metadata": {
    "tags": []
   },
   "outputs": [],
   "source": [
    "# refractored with comprehension\n",
    "\n",
    "def process_incoming_data(data_list):\n",
    "    return [datum//2*67 - 5 for datum in data_list]\n",
    "\n",
    "# test_list = [1, 2, 3]\n",
    "# process_incoming_data(test_list)"
   ]
  },
  {
   "cell_type": "code",
   "execution_count": 66,
   "id": "d812fcb5-387c-43c2-810c-5f898ecad6fb",
   "metadata": {
    "tags": []
   },
   "outputs": [
    {
     "name": "stdout",
     "output_type": "stream",
     "text": [
      "True\n"
     ]
    }
   ],
   "source": [
    "test_list = [1, 2, 3]\n",
    "print(process_incoming_data(test_list) == old_process_incoming_data(test_list))"
   ]
  },
  {
   "cell_type": "markdown",
   "id": "70787754-210b-444e-bf86-99b41dfb294f",
   "metadata": {},
   "source": [
    "## Lesson 2\n",
    "### Dictionary Comprehension"
   ]
  },
  {
   "cell_type": "code",
   "execution_count": 59,
   "id": "550d294e-cec2-4b34-afc5-20e158737efd",
   "metadata": {
    "tags": []
   },
   "outputs": [],
   "source": [
    "# for loop\n",
    "\n",
    "float_dict_2l = {}\n",
    "\n",
    "for i in range(10):\n",
    "    float_dict_2l[i] = i * 100.0"
   ]
  },
  {
   "cell_type": "code",
   "execution_count": 60,
   "id": "11bda811-c3bd-4f32-96ce-6dc4d1865935",
   "metadata": {
    "tags": []
   },
   "outputs": [],
   "source": [
    "# dictionary comprehension\n",
    "# key:value\n",
    "\n",
    "float_dict_2c = {i:i*100.0 for i in range(10)}"
   ]
  },
  {
   "cell_type": "code",
   "execution_count": 61,
   "id": "aa63f8b7-7be1-4d46-9497-0ec894af6836",
   "metadata": {
    "tags": []
   },
   "outputs": [
    {
     "name": "stdout",
     "output_type": "stream",
     "text": [
      "True\n"
     ]
    }
   ],
   "source": [
    "print(float_dict_2l == float_dict_2c)"
   ]
  },
  {
   "cell_type": "markdown",
   "id": "68de0adb-5bcd-4fc9-b3e5-aa61902f86f3",
   "metadata": {
    "tags": []
   },
   "source": [
    "### Dictionary Exercise"
   ]
  },
  {
   "cell_type": "code",
   "execution_count": 17,
   "id": "291b9694-f99a-46a4-a0f1-e58185ebd4c9",
   "metadata": {
    "tags": []
   },
   "outputs": [],
   "source": [
    "def old_saturation_levels(data_dict):\n",
    "    temp = {}\n",
    "    for key, value in data_dict.items():\n",
    "        temp[key] = (value**3) / (2**value)\n",
    "    return temp\n",
    "\n",
    "\n",
    "def saturation_levels(data_dict):\n",
    "    return {k: v**3 / 2**v for k, v in data_dict.items()}"
   ]
  },
  {
   "cell_type": "code",
   "execution_count": 19,
   "id": "32a045e9-56ac-4d99-a399-5c7cdffd7325",
   "metadata": {
    "tags": []
   },
   "outputs": [
    {
     "data": {
      "text/plain": [
       "True"
      ]
     },
     "execution_count": 19,
     "metadata": {},
     "output_type": "execute_result"
    }
   ],
   "source": [
    "hydration_levels = {\"arc1\": 23, \"arc2\": 64, \"arc3\": 104}\n",
    "old_saturation_levels(hydration_levels) == saturation_levels(hydration_levels)"
   ]
  },
  {
   "cell_type": "markdown",
   "id": "6d144a82-9191-4003-94ec-620acbacd693",
   "metadata": {},
   "source": [
    "## Lesson 3\n",
    "### Comparison of 'for loop' and 'list comprehension' Example"
   ]
  },
  {
   "cell_type": "code",
   "execution_count": 69,
   "id": "3fad2726-8ccd-4f5f-8818-0bf1e2be00d4",
   "metadata": {
    "tags": []
   },
   "outputs": [],
   "source": [
    "float_list_l = []\n",
    "# for loop\n",
    "\n",
    "for i in range(100):\n",
    "    if i % 2 == 0:\n",
    "        float_list.append(i*100.0)\n",
    "    else:\n",
    "        float_list.append(-1)\n",
    "\n",
    "# print(float_list)"
   ]
  },
  {
   "cell_type": "code",
   "execution_count": 70,
   "id": "7e4ec334-f20a-4b54-89f2-2e80739cdd8c",
   "metadata": {
    "tags": []
   },
   "outputs": [],
   "source": [
    "# comprehension replacement\n",
    "\n",
    "float_list_c = [i*100.0 if i % 2 == 0 else -1 for i in range(100)]\n",
    "# print(float_list)"
   ]
  },
  {
   "cell_type": "code",
   "execution_count": 71,
   "id": "d5f71e9c-f175-4ee7-9f0f-7359e3c3f968",
   "metadata": {
    "tags": []
   },
   "outputs": [
    {
     "name": "stdout",
     "output_type": "stream",
     "text": [
      "True\n"
     ]
    }
   ],
   "source": [
    "print(float_list_l == float_list_c)"
   ]
  },
  {
   "cell_type": "markdown",
   "id": "e9473db1-2cf4-46e3-a831-a7dc915c803d",
   "metadata": {},
   "source": [
    "### Exercise for Lesson 3"
   ]
  },
  {
   "cell_type": "code",
   "execution_count": 72,
   "id": "96953106-197c-4888-bcff-80aae84fe6d1",
   "metadata": {
    "tags": []
   },
   "outputs": [
    {
     "name": "stdout",
     "output_type": "stream",
     "text": [
      "True\n"
     ]
    }
   ],
   "source": [
    "def find_usable_data(data_list):\n",
    "    temp = []\n",
    "    for datum in data_list:\n",
    "        if datum > 90 and datum % 2 == 0:\n",
    "            temp.append(datum)\n",
    "        else:\n",
    "            temp.append(-100)\n",
    "    return temp\n",
    "\n",
    "# comprehension equivilent\n",
    "\n",
    "def find_usable_data_c(data_list):\n",
    "    return [datum if datum > 90 and datum % 2 == 0 else -100 for datum in data_list]\n",
    "\n",
    "print(find_usable_data_c(data_list) == find_usable_data(data_list))"
   ]
  },
  {
   "cell_type": "markdown",
   "id": "3aa7c2e5-395e-4df1-b72f-c806565adf8c",
   "metadata": {},
   "source": [
    "### Example of improper syntax"
   ]
  },
  {
   "cell_type": "code",
   "execution_count": 38,
   "id": "fc66fad8-aab6-4232-a589-bcdc2e149812",
   "metadata": {
    "tags": []
   },
   "outputs": [
    {
     "ename": "SyntaxError",
     "evalue": "invalid syntax (1905893348.py, line 7)",
     "output_type": "error",
     "traceback": [
      "\u001b[0;36m  File \u001b[0;32m\"/var/folders/fy/yb0gj3rx4_xf_fv6w0_dh0rw0000gn/T/ipykernel_17889/1905893348.py\"\u001b[0;36m, line \u001b[0;32m7\u001b[0m\n\u001b[0;31m    return [datum if datum > 90 for datum in data_list]\u001b[0m\n\u001b[0m                                  ^\u001b[0m\n\u001b[0;31mSyntaxError\u001b[0m\u001b[0;31m:\u001b[0m invalid syntax\n"
     ]
    }
   ],
   "source": [
    "# example of wrong syntax\n",
    "\n",
    "# for this to be correct the comprehension must alter the data and have an else statement so all of the data is altered not just some of it\n",
    "\n",
    "data_list = [1, 2, 90, 91, 92, 93, 94]\n",
    "def find_usable_data_c(data_list):\n",
    "    return [datum if datum > 90 for datum in data_list]\n",
    "find_usable_data_c(data_list)"
   ]
  },
  {
   "cell_type": "code",
   "execution_count": 35,
   "id": "d5066e7a-79d2-4df9-833f-3de579f30045",
   "metadata": {
    "tags": []
   },
   "outputs": [
    {
     "data": {
      "text/plain": [
       "[91, 92, 93, 94]"
      ]
     },
     "execution_count": 35,
     "metadata": {},
     "output_type": "execute_result"
    }
   ],
   "source": [
    "# examle of correct syntax\n",
    "\n",
    "# if not altering data in comprehension the conditional has to go at the end of the statement\n",
    "\n",
    "data_list = [1, 2, 90, 91, 92, 93, 94]\n",
    "def find_usable_data_c(data_list):\n",
    "    return [datum for datum in data_list if datum > 90]\n",
    "find_usable_data_c(data_list)"
   ]
  },
  {
   "cell_type": "markdown",
   "id": "ccb64e2b-c379-4dd6-823e-22c74eb61a05",
   "metadata": {},
   "source": [
    "## Lesson 4\n",
    "### Nested comprehensions"
   ]
  },
  {
   "cell_type": "code",
   "execution_count": 43,
   "id": "c1a29367-40d9-4f4f-b4cd-bb01cf54f78e",
   "metadata": {
    "tags": []
   },
   "outputs": [],
   "source": [
    "# for loop\n",
    "\n",
    "float_list_l = []\n",
    "\n",
    "for i in range(100):\n",
    "    for j in range(10):\n",
    "        float_list_l.append(i * j)\n",
    "        \n",
    "# nested comprehensions\n",
    "\n",
    "float_list_c = [i*j for i in range(100) for j in range(10)]\n",
    "\n",
    "print(float_list_l == float_list_c)"
   ]
  },
  {
   "cell_type": "markdown",
   "id": "b1227167-ee17-4019-8a6b-3ba5e1b40a48",
   "metadata": {},
   "source": [
    "### Nested comprehension Exercise"
   ]
  },
  {
   "cell_type": "code",
   "execution_count": 48,
   "id": "77e8b9d2-062f-41b9-9f7b-30fe0f965d18",
   "metadata": {
    "tags": []
   },
   "outputs": [],
   "source": [
    "def calculate_value_l(data_list, divisors_list):\n",
    "    temp = []\n",
    "    for datum in data_list:\n",
    "        for divisor in divisors_list:\n",
    "            temp.append(datum / divisor)\n",
    "    return temp\n",
    "\n",
    "# data_list = [2, 4, 6, 8, 10]\n",
    "# divisors_list = [2]\n",
    "# calculate_value_l(data_list, divisors_list)"
   ]
  },
  {
   "cell_type": "code",
   "execution_count": 49,
   "id": "adaeaa55-c98b-40d6-9cd5-16344c9948ff",
   "metadata": {
    "tags": []
   },
   "outputs": [],
   "source": [
    "def calculate_value_c(data_list, divisors_list):\n",
    "    return[data/divisor for data in data_list for divisor in divisors_list]\n",
    "\n",
    "# data_list = [2, 4, 6, 8, 10]\n",
    "# divisors_list = [2]\n",
    "# calculate_value_c(data_list, divisors_list)"
   ]
  },
  {
   "cell_type": "code",
   "execution_count": 50,
   "id": "6e98c8cc-a094-4682-a5d8-d53ed7c7dd9d",
   "metadata": {
    "tags": []
   },
   "outputs": [
    {
     "name": "stdout",
     "output_type": "stream",
     "text": [
      "True\n"
     ]
    }
   ],
   "source": [
    "data_list = [2, 4, 6, 8, 10]\n",
    "divisors_list = [2]\n",
    "print(calculate_value_c(data_list, divisors_list) == calculate_value_l(data_list, divisors_list))"
   ]
  },
  {
   "cell_type": "code",
   "execution_count": 52,
   "id": "e93c13a5-6f1e-4de3-aeb5-e01d3415f14d",
   "metadata": {
    "tags": []
   },
   "outputs": [
    {
     "data": {
      "text/plain": [
       "[1.0, 0.5, 2.0, 1.0, 3.0, 1.5, 4.0, 2.0, 5.0, 2.5]"
      ]
     },
     "execution_count": 52,
     "metadata": {},
     "output_type": "execute_result"
    }
   ],
   "source": [
    "data_list = [2, 4, 6, 8, 10]\n",
    "divisors_list = [2, 4]\n",
    "calculate_value_l(data_list, divisors_list)"
   ]
  },
  {
   "cell_type": "markdown",
   "id": "3c93ea30-08e4-40ec-9671-4e8da516ca25",
   "metadata": {},
   "source": [
    "## Lesson 5\n",
    "### Comprehensions for Map functions"
   ]
  },
  {
   "cell_type": "code",
   "execution_count": 108,
   "id": "d4ebd3b9-7637-49a2-a625-e552530eaeea",
   "metadata": {
    "tags": []
   },
   "outputs": [
    {
     "data": {
      "text/plain": [
       "[2.0, 4.0, 6.0, 8.0]"
      ]
     },
     "execution_count": 108,
     "metadata": {},
     "output_type": "execute_result"
    }
   ],
   "source": [
    "numbers = [1.0, 2.0, 3.0, 4.0]\n",
    "\n",
    "def my_operation(i):\n",
    "    return i * 2\n",
    "\n",
    "# map function\n",
    "\n",
    "doubled_list_l = map(my_operation, numbers)\n",
    "list(doubled_list_l)"
   ]
  },
  {
   "cell_type": "code",
   "execution_count": 95,
   "id": "53fe1069-1b93-4ef9-9194-f956a8051aaa",
   "metadata": {
    "tags": []
   },
   "outputs": [
    {
     "name": "stdout",
     "output_type": "stream",
     "text": [
      "[2.0, 4.0, 6.0, 8.0]\n"
     ]
    }
   ],
   "source": [
    "doubled_list_c = [my_operation(i) for i in numbers]\n",
    "print(doubled_list_c)"
   ]
  },
  {
   "cell_type": "markdown",
   "id": "d7bb1bf3-279e-496c-b013-2b197159faf9",
   "metadata": {},
   "source": [
    "## Lesson 5 Exercise"
   ]
  },
  {
   "cell_type": "code",
   "execution_count": 112,
   "id": "21e06b7e-df03-44b7-807d-1ed8083cd341",
   "metadata": {
    "tags": []
   },
   "outputs": [],
   "source": [
    "for value in doubled_list_l:\n",
    "    print(value)"
   ]
  },
  {
   "cell_type": "markdown",
   "id": "fe5ca8ef-3336-4d6a-97ca-9c1834c491cb",
   "metadata": {},
   "source": [
    "# Lab"
   ]
  },
  {
   "cell_type": "code",
   "execution_count": 12,
   "id": "f4a7a3a6-97a9-421e-a33f-7e28cb65098b",
   "metadata": {
    "tags": []
   },
   "outputs": [
    {
     "data": {
      "text/plain": [
       "[1.0,\n",
       " 0.9659258262890683,\n",
       " 0.8660254037844387,\n",
       " 0.7071067811865476,\n",
       " 0.5000000000000001,\n",
       " 6.123233995736766e-17]"
      ]
     },
     "execution_count": 12,
     "metadata": {},
     "output_type": "execute_result"
    }
   ],
   "source": [
    "# refractor to a more simple verion\n",
    "\n",
    "from math import cos, radians\n",
    "\n",
    "def cos_correction(value, angle):\n",
    "    return value * cos(radians(angle))\n",
    "\n",
    "def adjust_for_angle_l(data_list):\n",
    "    temp = []\n",
    "    for datum in data_list:\n",
    "        for j in [0, 15, 30, 45, 60, 90]:\n",
    "            temp.append(cos_correction(datum, j))\n",
    "    return temp\n",
    "\n",
    "data_list = [1]\n",
    "adjust_for_angle_l(data_list)\n"
   ]
  },
  {
   "cell_type": "code",
   "execution_count": 15,
   "id": "af732564-05bb-483b-8cb5-7956f6fe70dd",
   "metadata": {
    "tags": []
   },
   "outputs": [
    {
     "data": {
      "text/plain": [
       "True"
      ]
     },
     "execution_count": 15,
     "metadata": {},
     "output_type": "execute_result"
    }
   ],
   "source": [
    "# my changed version\n",
    "\n",
    "from math import cos, radians\n",
    "\n",
    "def cos_correction(value, angle):\n",
    "    return value * cos(radians(angle))\n",
    "\n",
    "def adjust_for_angle_c(data_list):\n",
    "    return [cos_correction(value, j) for value in data_list for j in [0, 15, 30, 45, 60, 90]]\n",
    "\n",
    "data_list = [1]\n",
    "adjust_for_angle_l(data_list) == adjust_for_angle_c(data_list)"
   ]
  },
  {
   "cell_type": "code",
   "execution_count": 17,
   "id": "f978c161-11b5-4915-a1dd-6821029a1b52",
   "metadata": {
    "tags": []
   },
   "outputs": [
    {
     "data": {
      "text/plain": [
       "True"
      ]
     },
     "execution_count": 17,
     "metadata": {},
     "output_type": "execute_result"
    }
   ],
   "source": [
    "# answer from lab, also combined first function\n",
    "\n",
    "from math import cos, radians\n",
    "\n",
    "def adjust_for_angle_c_a(data_list):\n",
    "    return [value * cos(radians(angle)) for value in data_list for angle in [0, 15, 30, 45, 60, 90]]\n",
    "                        \n",
    "adjust_for_angle_l(data_list) == adjust_for_angle_c_a(data_list)"
   ]
  },
  {
   "cell_type": "code",
   "execution_count": null,
   "id": "03dd45b1-c218-4cae-851e-7f575317e83b",
   "metadata": {},
   "outputs": [],
   "source": []
  }
 ],
 "metadata": {
  "kernelspec": {
   "display_name": "Python 3 (ipykernel)",
   "language": "python",
   "name": "python3"
  },
  "language_info": {
   "codemirror_mode": {
    "name": "ipython",
    "version": 3
   },
   "file_extension": ".py",
   "mimetype": "text/x-python",
   "name": "python",
   "nbconvert_exporter": "python",
   "pygments_lexer": "ipython3",
   "version": "3.7.9"
  }
 },
 "nbformat": 4,
 "nbformat_minor": 5
}
