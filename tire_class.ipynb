{
 "cells": [
  {
   "cell_type": "code",
   "execution_count": 3,
   "id": "c0deedd2-0a79-47e2-b716-e90af875bbdc",
   "metadata": {
    "tags": []
   },
   "outputs": [],
   "source": [
    "class Tire:\n",
    "    \"\"\"\n",
    "    Tire represents a tire that would be used with an automobile\n",
    "    \"\"\"\n",
    "    def __init__(self, tire_type, width, ratio, diameter, brand='', construction='R'):\n",
    "        self.tire_type = tire_type\n",
    "        self.width = width\n",
    "        self.ratio = ratio\n",
    "        self.diamter = diameter\n",
    "        self.construction = construction\n",
    "\n",
    "    def __repr__(self):\n",
    "        \"\"\"\n",
    "        Represent the tire's information in the standard notation present on the side of the tire.\n",
    "        Example: 'P215/65R15'\n",
    "        \"\"\"\n",
    "        return (f\"{self.tire_type}{self.width}/{self.ratio}{self.construction}{self.diamter}\")\n"
   ]
  }
 ],
 "metadata": {
  "kernelspec": {
   "display_name": "Python 3 (ipykernel)",
   "language": "python",
   "name": "python3"
  },
  "language_info": {
   "codemirror_mode": {
    "name": "ipython",
    "version": 3
   },
   "file_extension": ".py",
   "mimetype": "text/x-python",
   "name": "python",
   "nbconvert_exporter": "python",
   "pygments_lexer": "ipython3",
   "version": "3.7.9"
  }
 },
 "nbformat": 4,
 "nbformat_minor": 5
}
