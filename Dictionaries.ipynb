{
 "cells": [
  {
   "cell_type": "code",
   "execution_count": 9,
   "id": "099b75ed-00ea-4c3e-a475-08a4a3c1c898",
   "metadata": {
    "tags": []
   },
   "outputs": [
    {
     "data": {
      "text/plain": [
       "{'kevin': 29, 'alex': 29, 'bob': 40}"
      ]
     },
     "execution_count": 9,
     "metadata": {},
     "output_type": "execute_result"
    }
   ],
   "source": [
    "# create dictionary\n",
    "\n",
    "ages = { 'kevin': 29, 'alex': 29, 'bob': 40 }\n",
    "ages"
   ]
  },
  {
   "cell_type": "code",
   "execution_count": 2,
   "id": "38f4adc2-cfc2-4c16-8c96-a2c27bc6bbc8",
   "metadata": {
    "tags": []
   },
   "outputs": [
    {
     "data": {
      "text/plain": [
       "29"
      ]
     },
     "execution_count": 2,
     "metadata": {},
     "output_type": "execute_result"
    }
   ],
   "source": [
    "# look up value in dictionary\n",
    "ages['kevin']"
   ]
  },
  {
   "cell_type": "code",
   "execution_count": 7,
   "id": "aff090f3-9eb6-43be-a274-ad61fa041e0c",
   "metadata": {},
   "outputs": [
    {
     "data": {
      "text/plain": [
       "{'alex': 29, 'bob': 40, 'dan': 34}"
      ]
     },
     "execution_count": 7,
     "metadata": {},
     "output_type": "execute_result"
    }
   ],
   "source": [
    "# add to dictionary\n",
    "\n",
    "ages['dan'] = 34\n",
    "ages"
   ]
  },
  {
   "cell_type": "code",
   "execution_count": 5,
   "id": "7136316b-0ed4-4582-9d5f-d7ece0123cd0",
   "metadata": {
    "tags": []
   },
   "outputs": [
    {
     "data": {
      "text/plain": [
       "{'alex': 29, 'bob': 40, 'Dan': 34}"
      ]
     },
     "execution_count": 5,
     "metadata": {},
     "output_type": "execute_result"
    }
   ],
   "source": [
    "# remove an item\n",
    "del ages['kevin']\n",
    "ages"
   ]
  },
  {
   "cell_type": "code",
   "execution_count": 10,
   "id": "66c0b33e-a87e-462d-b20c-cea22e7d1b50",
   "metadata": {
    "tags": []
   },
   "outputs": [
    {
     "data": {
      "text/plain": [
       "29"
      ]
     },
     "execution_count": 10,
     "metadata": {},
     "output_type": "execute_result"
    }
   ],
   "source": [
    "# pop method: removes and returns value\n",
    "\n",
    "ages.pop('alex')"
   ]
  },
  {
   "cell_type": "code",
   "execution_count": 12,
   "id": "a9cf131e-9ff8-4ae5-80b0-7e32a9c68ebe",
   "metadata": {
    "tags": []
   },
   "outputs": [
    {
     "data": {
      "text/plain": [
       "29"
      ]
     },
     "execution_count": 12,
     "metadata": {},
     "output_type": "execute_result"
    }
   ],
   "source": [
    "# read method\n",
    "\n",
    "ages.get('kevin')"
   ]
  },
  {
   "cell_type": "code",
   "execution_count": 14,
   "id": "8776f150-62fa-42f1-9194-932b11226654",
   "metadata": {
    "tags": []
   },
   "outputs": [
    {
     "data": {
      "text/plain": [
       "dict_keys(['kevin', 'bob'])"
      ]
     },
     "execution_count": 14,
     "metadata": {},
     "output_type": "execute_result"
    }
   ],
   "source": [
    "# keys method, returns dictionary keys\n",
    "\n",
    "ages.keys()"
   ]
  },
  {
   "cell_type": "code",
   "execution_count": 15,
   "id": "3c157cf3-2832-465a-bc20-2d77bfb7df18",
   "metadata": {
    "tags": []
   },
   "outputs": [
    {
     "data": {
      "text/plain": [
       "dict_values([29, 40])"
      ]
     },
     "execution_count": 15,
     "metadata": {},
     "output_type": "execute_result"
    }
   ],
   "source": [
    "ages.values()"
   ]
  },
  {
   "cell_type": "code",
   "execution_count": 18,
   "id": "ec89b37c-36bf-4f1c-a3c3-f79a316285f6",
   "metadata": {
    "tags": []
   },
   "outputs": [
    {
     "data": {
      "text/plain": [
       "{'kevin': 160, 'bob': 250}"
      ]
     },
     "execution_count": 18,
     "metadata": {},
     "output_type": "execute_result"
    }
   ],
   "source": [
    "weights = dict(kevin=160, bob=250)\n",
    "weights"
   ]
  },
  {
   "cell_type": "code",
   "execution_count": 21,
   "id": "64c9fc07-98ea-4799-816b-13cd397c59ea",
   "metadata": {
    "tags": []
   },
   "outputs": [
    {
     "data": {
      "text/plain": [
       "{'kevin': 'blue', 'bob': 'green'}"
      ]
     },
     "execution_count": 21,
     "metadata": {},
     "output_type": "execute_result"
    }
   ],
   "source": [
    "# use tuples to create dictionary\n",
    "colors = dict([('kevin', 'blue'), ('bob', 'green')])\n",
    "colors"
   ]
  },
  {
   "cell_type": "code",
   "execution_count": null,
   "id": "6538546c-b4a3-427d-81b5-cbfdb54657ef",
   "metadata": {},
   "outputs": [],
   "source": []
  }
 ],
 "metadata": {
  "kernelspec": {
   "display_name": "Python 3 (ipykernel)",
   "language": "python",
   "name": "python3"
  },
  "language_info": {
   "codemirror_mode": {
    "name": "ipython",
    "version": 3
   },
   "file_extension": ".py",
   "mimetype": "text/x-python",
   "name": "python",
   "nbconvert_exporter": "python",
   "pygments_lexer": "ipython3",
   "version": "3.7.9"
  }
 },
 "nbformat": 4,
 "nbformat_minor": 5
}
