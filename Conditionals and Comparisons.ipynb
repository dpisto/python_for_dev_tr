{
 "cells": [
  {
   "cell_type": "code",
   "execution_count": 2,
   "id": "8f4991a9-36c1-494f-ac4f-7ac6254ce395",
   "metadata": {
    "tags": []
   },
   "outputs": [
    {
     "data": {
      "text/plain": [
       "True"
      ]
     },
     "execution_count": 2,
     "metadata": {},
     "output_type": "execute_result"
    }
   ],
   "source": [
    "1 == 1"
   ]
  },
  {
   "cell_type": "code",
   "execution_count": 4,
   "id": "05a706de-1a88-426e-9180-65b62f94eb84",
   "metadata": {
    "tags": []
   },
   "outputs": [
    {
     "data": {
      "text/plain": [
       "False"
      ]
     },
     "execution_count": 4,
     "metadata": {},
     "output_type": "execute_result"
    }
   ],
   "source": [
    "1 == 1.1"
   ]
  },
  {
   "cell_type": "code",
   "execution_count": 5,
   "id": "60cd000d-b6b0-42f2-ac17-f65bc926842a",
   "metadata": {
    "tags": []
   },
   "outputs": [
    {
     "data": {
      "text/plain": [
       "False"
      ]
     },
     "execution_count": 5,
     "metadata": {},
     "output_type": "execute_result"
    }
   ],
   "source": [
    "'A' == 'a'"
   ]
  },
  {
   "cell_type": "code",
   "execution_count": 7,
   "id": "95599275-925d-4a9e-8cb2-c664c6d1c108",
   "metadata": {
    "tags": []
   },
   "outputs": [
    {
     "data": {
      "text/plain": [
       "True"
      ]
     },
     "execution_count": 7,
     "metadata": {},
     "output_type": "execute_result"
    }
   ],
   "source": [
    "# not equal\n",
    "\n",
    "1 != 2"
   ]
  },
  {
   "cell_type": "code",
   "execution_count": 9,
   "id": "9e2908d0-e240-40cc-b804-4772f654465a",
   "metadata": {
    "tags": []
   },
   "outputs": [
    {
     "data": {
      "text/plain": [
       "True"
      ]
     },
     "execution_count": 9,
     "metadata": {},
     "output_type": "execute_result"
    }
   ],
   "source": [
    "2 in [1, 2, 3]"
   ]
  },
  {
   "cell_type": "code",
   "execution_count": 10,
   "id": "5beade73-c2d0-424f-b215-5a8239a34ec6",
   "metadata": {
    "tags": []
   },
   "outputs": [
    {
     "data": {
      "text/plain": [
       "False"
      ]
     },
     "execution_count": 10,
     "metadata": {},
     "output_type": "execute_result"
    }
   ],
   "source": [
    "2 not in [1, 2, 3]"
   ]
  },
  {
   "cell_type": "code",
   "execution_count": 11,
   "id": "1eee723d-bdf0-4eb1-8e55-ad73abc43aaf",
   "metadata": {
    "tags": []
   },
   "outputs": [
    {
     "name": "stdout",
     "output_type": "stream",
     "text": [
      "Was true\n"
     ]
    }
   ],
   "source": [
    "if True:\n",
    "    print(\"Was true\")"
   ]
  },
  {
   "cell_type": "code",
   "execution_count": 12,
   "id": "2709b918-81c2-4c64-a169-0cc620bfc8d8",
   "metadata": {
    "tags": []
   },
   "outputs": [
    {
     "name": "stdout",
     "output_type": "stream",
     "text": [
      "1 does equal 1\n"
     ]
    }
   ],
   "source": [
    "if 1 == 1:\n",
    "    print(\"1 does equal 1\")"
   ]
  },
  {
   "cell_type": "code",
   "execution_count": 13,
   "id": "316a9893-67fa-4eb5-b91e-d8379c5d1cf0",
   "metadata": {
    "tags": []
   },
   "outputs": [
    {
     "name": "stdout",
     "output_type": "stream",
     "text": [
      "was false\n"
     ]
    }
   ],
   "source": [
    "if 1 > 2:\n",
    "    print(\"was true\")\n",
    "else:\n",
    "    print(\"was false\")"
   ]
  },
  {
   "cell_type": "code",
   "execution_count": 15,
   "id": "a16d35b4-2211-479d-8713-857e3b7beb49",
   "metadata": {
    "tags": []
   },
   "outputs": [
    {
     "name": "stdout",
     "output_type": "stream",
     "text": [
      "name is short, 3 characters or less\n"
     ]
    }
   ],
   "source": [
    "name = \"Dan\"\n",
    "if len(name) >= 6:\n",
    "    print(\"name is long\")\n",
    "elif len(name) == 5:\n",
    "    print(\"name is 5 characters\")\n",
    "elif len(name) >= 4:\n",
    "    print(\"name is 4 or more\")\n",
    "else:\n",
    "    print(\"name is short, 3 characters or less\")"
   ]
  },
  {
   "cell_type": "code",
   "execution_count": null,
   "id": "2f3ac547-bf90-4c47-8ddd-0da144ee1634",
   "metadata": {},
   "outputs": [],
   "source": []
  }
 ],
 "metadata": {
  "kernelspec": {
   "display_name": "Python 3 (ipykernel)",
   "language": "python",
   "name": "python3"
  },
  "language_info": {
   "codemirror_mode": {
    "name": "ipython",
    "version": 3
   },
   "file_extension": ".py",
   "mimetype": "text/x-python",
   "name": "python",
   "nbconvert_exporter": "python",
   "pygments_lexer": "ipython3",
   "version": "3.7.9"
  }
 },
 "nbformat": 4,
 "nbformat_minor": 5
}
