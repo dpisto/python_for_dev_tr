{
 "cells": [
  {
   "cell_type": "code",
   "execution_count": 3,
   "id": "f2d9dc72-4912-446e-a56a-aa40e863bc05",
   "metadata": {
    "tags": []
   },
   "outputs": [
    {
     "data": {
      "text/plain": [
       "False"
      ]
     },
     "execution_count": 3,
     "metadata": {},
     "output_type": "execute_result"
    }
   ],
   "source": [
    "# blank is false\n",
    "bool(\"\")"
   ]
  },
  {
   "cell_type": "code",
   "execution_count": 1,
   "id": "e42ed4f8-06d0-48de-a23c-93a3278fb089",
   "metadata": {
    "tags": []
   },
   "outputs": [
    {
     "data": {
      "text/plain": [
       "True"
      ]
     },
     "execution_count": 1,
     "metadata": {},
     "output_type": "execute_result"
    }
   ],
   "source": [
    "not \"\""
   ]
  },
  {
   "cell_type": "code",
   "execution_count": 4,
   "id": "57572abc-bdd6-4290-8006-a583b6b84220",
   "metadata": {
    "tags": []
   },
   "outputs": [
    {
     "data": {
      "text/plain": [
       "True"
      ]
     },
     "execution_count": 4,
     "metadata": {},
     "output_type": "execute_result"
    }
   ],
   "source": [
    "# not always returns true or false\n",
    "not 1 > 2"
   ]
  },
  {
   "cell_type": "code",
   "execution_count": 5,
   "id": "9a31ea7f-7c84-4cc3-beb2-77a5d18a23ec",
   "metadata": {
    "tags": []
   },
   "outputs": [
    {
     "name": "stdout",
     "output_type": "stream",
     "text": [
      "no it isn't\n"
     ]
    }
   ],
   "source": [
    "if not 1 > 2:\n",
    "    print(\"no it isn't\")"
   ]
  },
  {
   "cell_type": "code",
   "execution_count": 6,
   "id": "4fab421a-18ce-4989-bfa3-9f2bdfe70e2a",
   "metadata": {
    "tags": []
   },
   "outputs": [
    {
     "data": {
      "text/plain": [
       "'keith'"
      ]
     },
     "execution_count": 6,
     "metadata": {},
     "output_type": "execute_result"
    }
   ],
   "source": [
    "# and / or always return a value\n",
    "# gives what is true first\n",
    "\n",
    "'keith' or 0\n",
    "\n"
   ]
  },
  {
   "cell_type": "code",
   "execution_count": 74,
   "id": "f3f08572-5c9d-4f1e-9186-ce76ee6c4d1e",
   "metadata": {
    "tags": []
   },
   "outputs": [
    {
     "name": "stdout",
     "output_type": "stream",
     "text": [
      "First name does not exist\n"
     ]
    }
   ],
   "source": [
    "first = \"\"\n",
    "last = \"Piston\"\n",
    "if (not first) == True :\n",
    "    print(\"First name does not exist\")\n",
    "elif (not first) == False:\n",
    "    print(\"First name exists\")"
   ]
  },
  {
   "cell_type": "code",
   "execution_count": null,
   "id": "c51aa581-de0c-4756-8bb8-82f7732bafce",
   "metadata": {},
   "outputs": [],
   "source": []
  }
 ],
 "metadata": {
  "kernelspec": {
   "display_name": "Python 3 (ipykernel)",
   "language": "python",
   "name": "python3"
  },
  "language_info": {
   "codemirror_mode": {
    "name": "ipython",
    "version": 3
   },
   "file_extension": ".py",
   "mimetype": "text/x-python",
   "name": "python",
   "nbconvert_exporter": "python",
   "pygments_lexer": "ipython3",
   "version": "3.7.9"
  }
 },
 "nbformat": 4,
 "nbformat_minor": 5
}
