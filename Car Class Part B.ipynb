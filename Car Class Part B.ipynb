{
 "cells": [
  {
   "cell_type": "code",
   "execution_count": 1,
   "id": "68a7126e-15f8-43aa-9363-f88f19d52136",
   "metadata": {
    "tags": []
   },
   "outputs": [],
   "source": [
    "# add second method to Car class\n",
    "\n",
    "class Car:\n",
    "    \"\"\"\n",
    "    Car models w/ tires and an engine\n",
    "    \"\"\"\n",
    "    \n",
    "    def __init__(self, engine, tires):\n",
    "        \"\"\"\n",
    "        Create variables\n",
    "        \"\"\"\n",
    "        self.engine = engine\n",
    "        self.tires = tires\n",
    "        \n",
    "    def description(self):\n",
    "        print(f\"A car with an {self.engine} engine, and {self.tires} tires.\")"
   ]
  },
  {
   "cell_type": "code",
   "execution_count": 3,
   "id": "3b1414c5-c18f-4e3b-8dd4-b2f9867b709f",
   "metadata": {
    "tags": []
   },
   "outputs": [],
   "source": [
    "BMW = Car('6-cylinder', ['front-driver', 'front-passenger','rear-driver','rear-passenger'])"
   ]
  },
  {
   "cell_type": "code",
   "execution_count": 4,
   "id": "e414b9db-2fef-4046-81a4-59b983f1da9a",
   "metadata": {
    "tags": []
   },
   "outputs": [
    {
     "data": {
      "text/plain": [
       "<__main__.Car at 0x7f7a50022a90>"
      ]
     },
     "execution_count": 4,
     "metadata": {},
     "output_type": "execute_result"
    }
   ],
   "source": [
    "BMW"
   ]
  },
  {
   "cell_type": "code",
   "execution_count": 5,
   "id": "fb68f44c-2341-4541-b7f3-c952f75ee1c9",
   "metadata": {
    "tags": []
   },
   "outputs": [
    {
     "data": {
      "text/plain": [
       "<bound method Car.description of <__main__.Car object at 0x7f7a50022a90>>"
      ]
     },
     "execution_count": 5,
     "metadata": {},
     "output_type": "execute_result"
    }
   ],
   "source": [
    "BMW.description"
   ]
  },
  {
   "cell_type": "code",
   "execution_count": 6,
   "id": "6021a0fa-66ae-4831-832c-0d5f92fc1e41",
   "metadata": {
    "tags": []
   },
   "outputs": [
    {
     "name": "stdout",
     "output_type": "stream",
     "text": [
      "A car with an 6-cylinder engine, and ['front-driver', 'front-passenger', 'rear-driver', 'rear-passenger'] tires.\n"
     ]
    }
   ],
   "source": [
    "BMW.description()"
   ]
  },
  {
   "cell_type": "code",
   "execution_count": null,
   "id": "c1eacea7-faff-44b8-8a3c-599ed539be94",
   "metadata": {},
   "outputs": [],
   "source": []
  }
 ],
 "metadata": {
  "kernelspec": {
   "display_name": "Python 3 (ipykernel)",
   "language": "python",
   "name": "python3"
  },
  "language_info": {
   "codemirror_mode": {
    "name": "ipython",
    "version": 3
   },
   "file_extension": ".py",
   "mimetype": "text/x-python",
   "name": "python",
   "nbconvert_exporter": "python",
   "pygments_lexer": "ipython3",
   "version": "3.7.9"
  }
 },
 "nbformat": 4,
 "nbformat_minor": 5
}
