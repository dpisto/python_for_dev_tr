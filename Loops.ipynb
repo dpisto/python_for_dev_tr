{
 "cells": [
  {
   "cell_type": "code",
   "execution_count": 4,
   "id": "696e8c2d-216c-4ab6-9679-613d912018ad",
   "metadata": {
    "tags": []
   },
   "outputs": [
    {
     "name": "stdout",
     "output_type": "stream",
     "text": [
      "0\n",
      "1\n",
      "1\n",
      "2\n",
      "3\n",
      "5\n",
      "8\n",
      "13\n"
     ]
    }
   ],
   "source": [
    "a, b = 0, 1\n",
    "while a < 20:\n",
    "    print(a)\n",
    "    a, b=b, a+b"
   ]
  },
  {
   "cell_type": "code",
   "execution_count": 7,
   "id": "46e155bb-88d3-4cfa-aa4a-4604bd993c87",
   "metadata": {},
   "outputs": [
    {
     "name": "stdout",
     "output_type": "stream",
     "text": [
      "0\n",
      "1\n",
      "2\n",
      "3\n",
      "4\n",
      "5\n",
      "6\n",
      "7\n",
      "8\n",
      "9\n"
     ]
    }
   ],
   "source": [
    "a = 0\n",
    "while a < 10:\n",
    "    print(a)\n",
    "    a=a+1"
   ]
  },
  {
   "cell_type": "code",
   "execution_count": 15,
   "id": "cac4b138-f0f7-49de-96b4-eda8bc717171",
   "metadata": {
    "tags": []
   },
   "outputs": [
    {
     "name": "stdout",
     "output_type": "stream",
     "text": [
      "loop 1\n",
      "loop 2\n",
      "loop 3\n",
      "loop 4\n"
     ]
    }
   ],
   "source": [
    "count = 1\n",
    "while count <=4:\n",
    "    print(f\"loop {count}\")\n",
    "    count += 1"
   ]
  },
  {
   "cell_type": "code",
   "execution_count": 16,
   "id": "046a3bab-5233-4fee-b745-31fe1dc66dae",
   "metadata": {
    "tags": []
   },
   "outputs": [
    {
     "name": "stdout",
     "output_type": "stream",
     "text": [
      "We are counting odd numbers: 1\n",
      "We are counting odd numbers: 3\n",
      "We are counting odd numbers: 5\n",
      "We are counting odd numbers: 7\n",
      "We are counting odd numbers: 9\n"
     ]
    }
   ],
   "source": [
    "# print only odd numbers with loop\n",
    "count = 0\n",
    "while count < 10:\n",
    "    if count % 2 == 0:\n",
    "        count += 1\n",
    "        continue\n",
    "    print(f\"We are counting odd numbers: {count}\")\n",
    "    count += 1"
   ]
  },
  {
   "cell_type": "code",
   "execution_count": 32,
   "id": "35ecef14-63b9-43d4-83b1-ad06b4a4be6e",
   "metadata": {
    "tags": []
   },
   "outputs": [
    {
     "name": "stdout",
     "output_type": "stream",
     "text": [
      "We are counting odd numbers: 0\n",
      "We are counting odd numbers: 2\n",
      "We are counting odd numbers: 4\n",
      "We are counting odd numbers: 6\n",
      "We are counting odd numbers: 8\n"
     ]
    }
   ],
   "source": [
    "# print only even numbers with loop\n",
    "count = 0\n",
    "while count < 10:\n",
    "    if count % 2 == 1:\n",
    "        count += 1\n",
    "        continue\n",
    "    print(f\"We are counting even numbers: {count}\")\n",
    "    count += 1"
   ]
  },
  {
   "cell_type": "code",
   "execution_count": 35,
   "id": "2717e766-d5b4-4ab4-af77-5eea1b2d08d7",
   "metadata": {
    "tags": []
   },
   "outputs": [
    {
     "name": "stdout",
     "output_type": "stream",
     "text": [
      "We're counting odd numbers: 1\n"
     ]
    }
   ],
   "source": [
    "count = 1\n",
    "while count < 10:\n",
    "    if count % 2 == 0:\n",
    "        break\n",
    "    print(f\"We're counting odd numbers: {count}\")\n",
    "    count += 1"
   ]
  },
  {
   "cell_type": "code",
   "execution_count": 43,
   "id": "d0257d18-622f-4716-828e-e571a586ab06",
   "metadata": {
    "tags": []
   },
   "outputs": [
    {
     "name": "stdout",
     "output_type": "stream",
     "text": [
      "blue\n",
      "green\n",
      "red\n",
      "purple\n"
     ]
    }
   ],
   "source": [
    "# for loop\n",
    "colors = ['blue', 'green', 'red', 'purple']\n",
    "for something in colors:\n",
    "    print(something)"
   ]
  },
  {
   "cell_type": "code",
   "execution_count": 47,
   "id": "eb7b3d2d-2991-4ced-959c-564ab6e07529",
   "metadata": {
    "tags": []
   },
   "outputs": [
    {
     "name": "stdout",
     "output_type": "stream",
     "text": [
      "blue is the color of the sky\n",
      "green is the color of the grass\n"
     ]
    }
   ],
   "source": [
    "# print specific sentences associated with colors\n",
    "colors = ['blue', 'green', 'red', 'purple']\n",
    "for color in colors:\n",
    "    if color == 'blue':\n",
    "        print(\"blue is the color of the sky\")\n",
    "    elif color == 'green':\n",
    "        print(\"green is the color of the grass\")\n",
    "    elif color == 'red':\n",
    "        continue\n",
    "    elif color == 'purple':\n",
    "        break"
   ]
  },
  {
   "cell_type": "code",
   "execution_count": 50,
   "id": "936cc325-488c-49bb-8321-f01bbb237f32",
   "metadata": {
    "tags": []
   },
   "outputs": [
    {
     "name": "stdout",
     "output_type": "stream",
     "text": [
      "3.1\n",
      "4.0\n",
      "8\n"
     ]
    }
   ],
   "source": [
    "point = (2.1, 3.0, 7)\n",
    "for value in point:\n",
    "    print (value)"
   ]
  },
  {
   "cell_type": "code",
   "execution_count": 51,
   "id": "d685955b-41c1-4755-885a-23613dc54312",
   "metadata": {
    "tags": []
   },
   "outputs": [
    {
     "name": "stdout",
     "output_type": "stream",
     "text": [
      "p\n",
      "y\n",
      "t\n",
      "h\n",
      "o\n",
      "n\n",
      " \n",
      "i\n",
      "s\n",
      " \n",
      "s\n",
      "t\n",
      "u\n",
      "p\n",
      "i\n",
      "d\n"
     ]
    }
   ],
   "source": [
    "string = 'python is stupid'\n",
    "for letter in string:\n",
    "    print(letter)"
   ]
  }
 ],
 "metadata": {
  "kernelspec": {
   "display_name": "Python 3 (ipykernel)",
   "language": "python",
   "name": "python3"
  },
  "language_info": {
   "codemirror_mode": {
    "name": "ipython",
    "version": 3
   },
   "file_extension": ".py",
   "mimetype": "text/x-python",
   "name": "python",
   "nbconvert_exporter": "python",
   "pygments_lexer": "ipython3",
   "version": "3.7.9"
  }
 },
 "nbformat": 4,
 "nbformat_minor": 5
}
