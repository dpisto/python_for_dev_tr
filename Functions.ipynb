{
 "cells": [
  {
   "cell_type": "code",
   "execution_count": 2,
   "id": "0c6b762d-06fe-4dbf-8027-7cce96e15bd6",
   "metadata": {
    "tags": []
   },
   "outputs": [
    {
     "name": "stdout",
     "output_type": "stream",
     "text": [
      "Hello, world!\n"
     ]
    }
   ],
   "source": [
    "# write first function\n",
    "\n",
    "def hello_world():\n",
    "    print(\"Hello, world!\")\n",
    "\n",
    "hello_world()"
   ]
  },
  {
   "cell_type": "code",
   "execution_count": 14,
   "id": "0df5b22c-da20-43a5-80ac-b95c3785e175",
   "metadata": {
    "tags": []
   },
   "outputs": [
    {
     "name": "stdout",
     "output_type": "stream",
     "text": [
      "Name is Dan\n"
     ]
    },
    {
     "data": {
      "text/plain": [
       "'Dan'"
      ]
     },
     "execution_count": 14,
     "metadata": {},
     "output_type": "execute_result"
    }
   ],
   "source": [
    "# just print name with no return\n",
    "\n",
    "my_name_is = \"Dan\"\n",
    "def print_name(name):\n",
    "    print(f\"Name is {name}\")\n",
    "    return(name)\n",
    "    \n",
    "print_name(my_name_is)"
   ]
  },
  {
   "cell_type": "code",
   "execution_count": 9,
   "id": "7336c3c8-ca41-45ce-964f-2e594ac727bf",
   "metadata": {
    "tags": []
   },
   "outputs": [],
   "source": [
    "def add_two(num):\n",
    "    return num + 2\n",
    "\n",
    "add_two(1)"
   ]
  },
  {
   "cell_type": "code",
   "execution_count": 15,
   "id": "a63fdc6c-8bd1-4181-bcf3-c35721eb12b9",
   "metadata": {
    "tags": []
   },
   "outputs": [
    {
     "data": {
      "text/plain": [
       "9"
      ]
     },
     "execution_count": 15,
     "metadata": {},
     "output_type": "execute_result"
    }
   ],
   "source": [
    "# multiple positional arguments\n",
    "\n",
    "def add(num1, num2):\n",
    "    return num1 + num2\n",
    "\n",
    "add(4,5)"
   ]
  },
  {
   "cell_type": "code",
   "execution_count": 18,
   "id": "87458c74-7e0a-44ad-8d97-bf770ec9cf0b",
   "metadata": {
    "tags": []
   },
   "outputs": [
    {
     "data": {
      "text/plain": [
       "'Dan is 35 and drives a Subaru'"
      ]
     },
     "execution_count": 18,
     "metadata": {},
     "output_type": "execute_result"
    }
   ],
   "source": [
    "def contact_card(name, age, car_model):\n",
    "    return f\"{name} is {age} and drives a {car_model}\"\n",
    "\n",
    "contact_card(\"Dan\", 35, \"Subaru\")"
   ]
  },
  {
   "cell_type": "code",
   "execution_count": 19,
   "id": "ac014fa0-2010-4f1d-b293-f0e772e4aa3d",
   "metadata": {
    "tags": []
   },
   "outputs": [
    {
     "data": {
      "text/plain": [
       "'Dan is 28 and drives a Subaru'"
      ]
     },
     "execution_count": 19,
     "metadata": {},
     "output_type": "execute_result"
    }
   ],
   "source": [
    "# using keyword arguements\n",
    "\n",
    "contact_card(age = 28, car_model = \"Subaru\", name = \"Dan\")"
   ]
  },
  {
   "cell_type": "code",
   "execution_count": 21,
   "id": "47d6d05f-fe9d-4834-9e1d-7cb88117e1b3",
   "metadata": {
    "tags": []
   },
   "outputs": [
    {
     "data": {
      "text/plain": [
       "'Dan is 35 and drives a Subaru'"
      ]
     },
     "execution_count": 21,
     "metadata": {},
     "output_type": "execute_result"
    }
   ],
   "source": [
    "# using both positional and keyword arguements\n",
    "\n",
    "contact_card(\"Dan\", car_model = \"Subaru\", age = 35)"
   ]
  },
  {
   "cell_type": "code",
   "execution_count": 22,
   "id": "e115df9b-7926-4709-80b1-016522844250",
   "metadata": {
    "tags": []
   },
   "outputs": [
    {
     "data": {
      "text/plain": [
       "False"
      ]
     },
     "execution_count": 22,
     "metadata": {},
     "output_type": "execute_result"
    }
   ],
   "source": [
    "# default varible in function\n",
    "\n",
    "def can_drive(age, driving_age=16):\n",
    "    return age > driving_age\n",
    "\n",
    "can_drive(15)"
   ]
  },
  {
   "cell_type": "code",
   "execution_count": 24,
   "id": "00b42edb-a789-4352-b0c0-11088cedced1",
   "metadata": {
    "tags": []
   },
   "outputs": [
    {
     "data": {
      "text/plain": [
       "True"
      ]
     },
     "execution_count": 24,
     "metadata": {},
     "output_type": "execute_result"
    }
   ],
   "source": [
    "can_drive(15,14)"
   ]
  },
  {
   "cell_type": "code",
   "execution_count": null,
   "id": "79a1613e-cc6e-4efd-9298-effeacbba7a0",
   "metadata": {},
   "outputs": [],
   "source": [
    "def print_todo(todo):\n",
    "     \"\"\"\n",
    "     print_todo takes in a todo dictionary and prints it out\n",
    "     with by separating the `name` from the `body` using a colon (:).\n",
    "\n",
    "     >>> todo = {'name': 'Example 1', 'body': 'This is a test task', 'points': '3'}\n",
    "     >>> print_todo(todo)\n",
    "     Example 1: This is a test task\n",
    "     >>>\n",
    "     \"\"\"\n",
    "     pass"
   ]
  },
  {
   "cell_type": "code",
   "execution_count": null,
   "id": "bda2c54f-0d00-4cb5-819f-355d6d8f96db",
   "metadata": {},
   "outputs": [],
   "source": [
    "def take_first(todos):\n",
    "     \"\"\"\n",
    "     take_first receives a list of todos and removes the first todo\n",
    "     and returns that todo and the remaining todos in a touple\n",
    "\n",
    "     >>> todos = [{'name': 'Example 1', 'body': 'This is a test task', 'points': '3'},\n",
    "     ... {'name': 'Task 2', 'body': 'Yet another example task', 'points': '2'}]\n",
    "    >>> todo, todos = take_first(todos)\n",
    "     >>> todo\n",
    "     {'name': 'Example 1', 'body': 'This is a test task', 'points': '3'}\n",
    "    >>> todos\n",
    "    [{'name': 'Task 2', 'body': 'Yet another example task', 'points': '2'}]\n",
    "     \"\"\"\n",
    "     return"
   ]
  },
  {
   "cell_type": "code",
   "execution_count": null,
   "id": "449e2100-b789-44d2-b70c-0695b722742e",
   "metadata": {},
   "outputs": [],
   "source": [
    "def sum_points(todo1, todo2):\n",
    "    \"\"\"\n",
    "    sum_points receives two todo dictionaries and returns sum of their `point` values.\n",
    "\n",
    "         >>> todos = [{'name': 'Example 1', 'body': 'This is a test task', 'points': '3'},\n",
    "         ... {'name': 'Task 2', 'body': 'Yet another example task', 'points': '2'}]\n",
    " 34     >>> sum_points(todos[0], todos[1])\n",
    " 35     5\n",
    " 36     \"\"\""
   ]
  }
 ],
 "metadata": {
  "kernelspec": {
   "display_name": "Python 3 (ipykernel)",
   "language": "python",
   "name": "python3"
  },
  "language_info": {
   "codemirror_mode": {
    "name": "ipython",
    "version": 3
   },
   "file_extension": ".py",
   "mimetype": "text/x-python",
   "name": "python",
   "nbconvert_exporter": "python",
   "pygments_lexer": "ipython3",
   "version": "3.7.9"
  }
 },
 "nbformat": 4,
 "nbformat_minor": 5
}
